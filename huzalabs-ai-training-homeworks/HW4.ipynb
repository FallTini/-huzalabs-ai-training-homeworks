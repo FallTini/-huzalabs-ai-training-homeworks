{
  "nbformat": 4,
  "nbformat_minor": 0,
  "metadata": {
    "colab": {
      "provenance": []
    },
    "kernelspec": {
      "name": "python3",
      "display_name": "Python 3"
    },
    "language_info": {
      "name": "python"
    }
  },
  "cells": [
    {
      "cell_type": "code",
      "execution_count": 7,
      "metadata": {
        "id": "aH8o8Qcbg2YZ"
      },
      "outputs": [],
      "source": [
        "# 1. O(n^2) time complexity:\n",
        "\n",
        "def mostCommonName(L):\n",
        "    if not L:\n",
        "        return None\n",
        "    counts = {}\n",
        "    max_count = 0\n",
        "    for name in L:\n",
        "        count = L.count(name)\n",
        "        counts[name] = count\n",
        "        max_count = max(max_count, count)\n",
        "    most_common_names = {name for name, count in counts.items() if count == max_count}\n",
        "    return most_common_names if most_common_names else None\n",
        "\n",
        "#Time complexity: O(n^2) (nested loop for counting occurrences of each name)\n",
        "\n",
        "#O(n log n) time complexity:\n",
        "\n",
        "def mostCommonName(L):\n",
        "    if not L:\n",
        "        return None\n",
        "    counts = {}\n",
        "    for name in L:\n",
        "        counts[name] = counts.get(name, 0) + 1\n",
        "    max_count = max(counts.values())\n",
        "    most_common_names = {name for name, count in counts.items() if count == max_count}\n",
        "    return most_common_names if most_common_names else None\n",
        "\n",
        "#Time complexity: O(n log n) (sorting the dictionary by values)\n",
        "\n",
        "# O(n) time complexity:\n",
        "\n",
        "def mostCommonName(L):\n",
        "    if not L:\n",
        "        return None\n",
        "    counts = {}\n",
        "    max_count = 0\n",
        "    most_common_names = set()\n",
        "    for name in L:\n",
        "        counts[name] = counts.get(name, 0) + 1\n",
        "        if counts[name] > max_count:\n",
        "            max_count = counts[name]\n",
        "            most_common_names = {name}\n",
        "        elif counts[name] == max_count:\n",
        "            most_common_names.add(name)\n",
        "    return most_common_names if most_common_names else None\n"
      ]
    },
    {
      "cell_type": "markdown",
      "source": [
        "The best time complexity among the three versions of the `mostCommonName` function is O(n), which is achieved by the third version. This version traverses the list only once and keeps track of the counts of each name in a dictionary, allowing it to determine the most common name(s) efficiently in linear time."
      ],
      "metadata": {
        "id": "4EwEFa8hhEyW"
      }
    },
    {
      "cell_type": "markdown",
      "source": [
        "# 5 MostPopularFriend(d)\n",
        "Recall that friendsOfFriends(d) takes a dictionary d like this:\n",
        "    d = dict()\n",
        "    d[\"fred\"] = set([\"wilma\", \"betty\", \"barney\"])\n",
        "    d[\"wilma\"] = set([\"fred\", \"betty\", \"dino\"])"
      ],
      "metadata": {
        "id": "5CNFq2_grgYA"
      }
    },
    {
      "cell_type": "code",
      "source": [
        "def mostPopularFriend(d):\n",
        "    friend_count = {}\n",
        "    for friends in d.values():\n",
        "        for friend in friends:\n",
        "            friend_count[friend] = friend_count.get(friend, 0) + 1\n",
        "\n",
        "    most_popular_friend = max(friend_count, key=friend_count.get)\n",
        "    return most_popular_friend\n",
        "\n",
        "#example\n",
        "d = dict()\n",
        "d[\"Kadidja\"] = set([\"Fatima\", \"Violetta\", \"Leon\"])\n",
        "d[\"Fatima\"] = set([\"Violetta\", \"Tini\", \"Thomas\"])\n",
        "\n",
        "print(mostPopularFriend(d))  # Output: \"Violetta\"\n"
      ],
      "metadata": {
        "colab": {
          "base_uri": "https://localhost:8080/"
        },
        "id": "sGCES14HhlFA",
        "outputId": "53e01590-3e25-48a6-d486-6e21e9c8dd68"
      },
      "execution_count": 8,
      "outputs": [
        {
          "output_type": "stream",
          "name": "stdout",
          "text": [
            "Violetta\n"
          ]
        }
      ]
    },
    {
      "cell_type": "markdown",
      "source": [
        " # 6. findTriplets(L)\n"
      ],
      "metadata": {
        "id": "ugEt19OjsHAX"
      }
    },
    {
      "cell_type": "code",
      "source": [
        "def findTriplets(L):\n",
        "    triplets = set()\n",
        "    for i in range(len(L) - 1):\n",
        "        complements = {}\n",
        "        for j in range(i + 1, len(L)):\n",
        "            complement = -(L[i] + L[j])\n",
        "            if complement in complements:\n",
        "                triplet = tuple(sorted([L[i], L[j], complement]))\n",
        "                triplets.add(triplet)\n",
        "            else:\n",
        "                complements[L[j]] = j\n",
        "    return triplets\n",
        "\n",
        "L = [-1, 0, -3, 2, 1]\n",
        "print(findTriplets(L))  # Output: {(1, 0, -1), (-3, 2, 1)}\n",
        "\n"
      ],
      "metadata": {
        "colab": {
          "base_uri": "https://localhost:8080/"
        },
        "id": "e7Bqhw_zsTxG",
        "outputId": "2eed8dce-12e0-49dd-a453-f511ea291272"
      },
      "execution_count": 9,
      "outputs": [
        {
          "output_type": "stream",
          "name": "stdout",
          "text": [
            "{(-1, 0, 1), (-3, 1, 2)}\n"
          ]
        }
      ]
    },
    {
      "cell_type": "markdown",
      "source": [
        "## Hw8 2-7\n"
      ],
      "metadata": {
        "id": "p5WzVqc20Er3"
      }
    },
    {
      "cell_type": "code",
      "source": [
        "class Person:\n",
        "    def __init__(self, name, age):\n",
        "        self.name = name\n",
        "        self.age = age\n",
        "        self.friends = []\n",
        "\n",
        "    def getName(self):\n",
        "        return self.name\n",
        "\n",
        "    def getAge(self):\n",
        "        return self.age\n",
        "\n",
        "    def getFriends(self):\n",
        "        return self.friends\n",
        "\n",
        "    def getFriendsNames(self):\n",
        "        return sorted([friend.getName() for friend in self.friends])\n",
        "\n",
        "    def addFriend(self, friend):\n",
        "        if friend not in self.friends:\n",
        "            self.friends.append(friend)\n",
        "            friend.addFriend(self)\n"
      ],
      "metadata": {
        "id": "zKIZN3wqz-5A"
      },
      "execution_count": 10,
      "outputs": []
    },
    {
      "cell_type": "code",
      "source": [
        "def getPairSum(L, target):\n",
        "    complements = set()\n",
        "    for num in L:\n",
        "        complement = target - num\n",
        "        if complement in complements:\n",
        "            return (complement, num)\n",
        "        complements.add(num)\n",
        "    return None\n"
      ],
      "metadata": {
        "id": "bFGNzBPH0Wi2"
      },
      "execution_count": null,
      "outputs": []
    },
    {
      "cell_type": "code",
      "source": [
        "def containsPythagoreanTriple(L):\n",
        "    squares = {num**2 for num in L}\n",
        "    for a in L:\n",
        "        for b in L:\n",
        "            if a**2 + b**2 in squares:\n",
        "                return True\n",
        "    return False\n"
      ],
      "metadata": {
        "id": "BZ8nr5Yd0YEZ"
      },
      "execution_count": null,
      "outputs": []
    },
    {
      "cell_type": "code",
      "source": [
        "def movieAwards(oscarResults):\n",
        "    awards = {}\n",
        "    for category, movie in oscarResults:\n",
        "        awards[movie] = awards.get(movie, 0) + 1\n",
        "    return awards\n"
      ],
      "metadata": {
        "id": "u2dOlEoq0bxE"
      },
      "execution_count": null,
      "outputs": []
    },
    {
      "cell_type": "code",
      "source": [
        "def friendsOfFriends(d):\n",
        "    friends_of_friends = {}\n",
        "    for person, friends in d.items():\n",
        "        friends_of_friends[person] = set()\n",
        "        for friend in friends:\n",
        "            friends_of_friends[person] |= d.get(friend, set()) - {person} - friends\n",
        "    return friends_of_friends\n"
      ],
      "metadata": {
        "id": "e5uYVC7v0iX5"
      },
      "execution_count": null,
      "outputs": []
    },
    {
      "cell_type": "code",
      "source": [],
      "metadata": {
        "id": "ooFN-YNI0iio"
      },
      "execution_count": null,
      "outputs": []
    }
  ]
}