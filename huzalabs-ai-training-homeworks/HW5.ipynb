{
  "nbformat": 4,
  "nbformat_minor": 0,
  "metadata": {
    "colab": {
      "provenance": []
    },
    "kernelspec": {
      "name": "python3",
      "display_name": "Python 3"
    },
    "language_info": {
      "name": "python"
    }
  },
  "cells": [
    {
      "cell_type": "markdown",
      "source": [
        "EXTRA PRACTICE QUESTION 2"
      ],
      "metadata": {
        "id": "ifBmpGj3t5Pd"
      }
    },
    {
      "cell_type": "code",
      "source": [
        "import os\n",
        "\n",
        "def count_files_in_directory(directory_path):\n",
        "    # Initialize file count to 0\n",
        "    file_count = 0\n",
        "\n",
        "    # If the directory_path does not exist, return 0\n",
        "    if not os.path.isdir(directory_path):\n",
        "        return 0\n",
        "\n",
        "    # Iterate over all items in the directory\n",
        "    for item in os.listdir(directory_path):\n",
        "        # Create the full path to the item\n",
        "        item_path = os.path.join(directory_path, item)\n",
        "        # If it's a file, increment file_count\n",
        "        if os.path.isfile(item_path):\n",
        "            file_count += 1\n",
        "        # If it's a directory, recursively call count_files_in_directory and add its count\n",
        "        elif os.path.isdir(item_path):\n",
        "            file_count += count_files_in_directory(item_path)\n",
        "\n",
        "    return file_count\n",
        "\n",
        "# Example usage:\n",
        "directory_path = \"sampleFiles/folderB/folderF/folderG\"\n",
        "print(count_files_in_directory(directory_path))\n"
      ],
      "metadata": {
        "colab": {
          "base_uri": "https://localhost:8080/"
        },
        "id": "Rly33paluAVA",
        "outputId": "89ce47ed-a7ef-4678-b137-b6e6cd213e31"
      },
      "execution_count": 1,
      "outputs": [
        {
          "output_type": "stream",
          "name": "stdout",
          "text": [
            "0\n"
          ]
        }
      ]
    },
    {
      "cell_type": "markdown",
      "source": [
        "QUESTION  7"
      ],
      "metadata": {
        "id": "duVFrwhZvqQX"
      }
    },
    {
      "cell_type": "code",
      "source": [
        "import math\n",
        "\n",
        "# Function to check if a number is prime\n",
        "def is_prime_number(num):\n",
        "    if num <= 1:\n",
        "        return False\n",
        "    if num <= 3:\n",
        "        return True\n",
        "    if num % 2 == 0 or num % 3 == 0:\n",
        "        return False\n",
        "    i = 5\n",
        "    while i * i <= num:\n",
        "        if num % i == 0 or num % (i + 2) == 0:\n",
        "            return False\n",
        "        i += 6\n",
        "    return True\n",
        "\n",
        "# Function to generate right-truncatable primes\n",
        "def generate_right_truncatable_prime(digits):\n",
        "    def backtrack(number):\n",
        "        nonlocal result\n",
        "        if len(str(number)) == digits:\n",
        "            result = number\n",
        "            return\n",
        "        for digit in range(1, 10):\n",
        "            candidate = number * 10 + digit\n",
        "            if is_prime_number(candidate):\n",
        "                backtrack(candidate)\n",
        "\n",
        "    result = None\n",
        "    backtrack(0)\n",
        "    return result\n",
        "\n",
        "# Example usage:\n",
        "num_digits = 5\n",
        "print(generate_right_truncatable_prime(num_digits))\n"
      ],
      "metadata": {
        "colab": {
          "base_uri": "https://localhost:8080/"
        },
        "id": "UknUw7p63BP4",
        "outputId": "ffa8c186-474f-4ab6-c85d-de4f1ed5df2b"
      },
      "execution_count": 4,
      "outputs": [
        {
          "output_type": "stream",
          "name": "stdout",
          "text": [
            "73939\n"
          ]
        }
      ]
    },
    {
      "cell_type": "markdown",
      "source": [
        "QUESTION 8\n"
      ],
      "metadata": {
        "id": "kZPQp1Pm3QtG"
      }
    },
    {
      "cell_type": "code",
      "source": [
        "# Function to check if a move is valid\n",
        "def is_valid_peg_move(board, from_row, from_col, to_row, to_col):\n",
        "    rows = len(board)\n",
        "    cols = len(board[0])\n",
        "\n",
        "    # Check if the 'from' position contains a peg\n",
        "    if board[from_row][from_col] != 'O':\n",
        "        return False\n",
        "\n",
        "    # Check if the 'to' position is within the board bounds\n",
        "    if to_row < 0 or to_row >= rows or to_col < 0 or to_col >= cols:\n",
        "        return False\n",
        "\n",
        "    # Check if the 'to' position is empty\n",
        "    if board[to_row][to_col] != '.':\n",
        "        return False\n",
        "\n",
        "    # Check if the move is a valid jump (jumping over a peg)\n",
        "    jump_row = (from_row + to_row) // 2\n",
        "    jump_col = (from_col + to_col) // 2\n",
        "    if board[jump_row][jump_col] != 'O':\n",
        "        return False\n",
        "\n",
        "    return True\n",
        "\n",
        "# Function to perform a move on the board\n",
        "def make_peg_move(board, from_row, from_col, to_row, to_col):\n",
        "    jump_row = (from_row + to_row) // 2\n",
        "    jump_col = (from_col + to_col) // 2\n",
        "\n",
        "    new_board = [list(row) for row in board]\n",
        "    new_board[from_row][from_col] = '.'\n",
        "    new_board[jump_row][jump_col] = '.'\n",
        "    new_board[to_row][to_col] = 'O'\n",
        "\n",
        "    return new_board\n",
        "\n",
        "# Function to solve the Peg Solitaire problem using backtracking\n",
        "def solve_peg_solitaire_game(board):\n",
        "    rows = len(board)\n",
        "    cols = len(board[0])\n",
        "\n",
        "    # Define a helper function for backtracking\n",
        "    def backtrack(board, moves):\n",
        "        # Base case: If there are no pegs left or time exceeds limit, return moves\n",
        "        if sum(row.count('O') for row in board) <= 1:\n",
        "            return moves\n",
        "\n",
        "        # Iterate over all positions on the board\n",
        "        for from_row in range(rows):\n",
        "            for from_col in range(cols):\n",
        "                # Check if the current position contains a peg\n",
        "                if board[from_row][from_col] == 'O':\n",
        "                    # Try all possible moves from this position\n",
        "                    for d_row, d_col in [(0, 2), (0, -2), (2, 0), (-2, 0)]:\n",
        "                        to_row, to_col = from_row + d_row, from_col + d_col\n",
        "                        if is_valid_peg_move(board, from_row, from_col, to_row, to_col):\n",
        "                            new_board = make_peg_move(board, from_row, from_col, to_row, to_col)\n",
        "                            result = backtrack(new_board, moves + [(from_row, from_col, to_row, to_col)])\n",
        "                            if result:\n",
        "                                return result\n",
        "        # If no solution found, return None\n",
        "        return None\n",
        "\n",
        "    # Start backtracking from the initial board state\n",
        "    return backtrack(board, [])\n",
        "\n",
        "# Testing the solver with the provided boards\n",
        "custom_board = [\n",
        "    \"  ...  \",\n",
        "    \"  .O.  \",\n",
        "    \"..OO.O.\",\n",
        "    \".O...O.\",\n",
        "    \"..O.O..\",\n",
        "    \"  O.O  \",\n",
        "    \"  ...  \"\n",
        "]\n",
        "\n",
        "print(solve_peg_solitaire_game(custom_board))\n",
        "\n",
        "\n",
        "#Time Complexity: O(4^P) in the worst case, where P is the number of pegs on the board. However, the actual time complexity may be lower due to pruning and optimization.\n",
        "#Space Complexity: Exponential, primarily due to the recursion stack. The actual space usage may vary depending on the board size and the number of recursive calls.\n"
      ],
      "metadata": {
        "colab": {
          "base_uri": "https://localhost:8080/"
        },
        "id": "0nMinTA4B5iR",
        "outputId": "058fdf0f-799e-4299-989d-883c3e3c76f3"
      },
      "execution_count": 7,
      "outputs": [
        {
          "output_type": "stream",
          "name": "stdout",
          "text": [
            "[(1, 3, 3, 3), (2, 5, 4, 5), (4, 5, 4, 3), (3, 3, 5, 3), (5, 2, 3, 2), (2, 2, 4, 2), (5, 4, 5, 2), (5, 2, 3, 2), (3, 1, 3, 3)]\n"
          ]
        }
      ]
    },
    {
      "cell_type": "markdown",
      "source": [
        "HW9- PART A\n",
        "Question 1"
      ],
      "metadata": {
        "id": "s3ciH1PsCYqh"
      }
    },
    {
      "cell_type": "code",
      "source": [
        "def countOddNumbers(numbers):\n",
        "    if len(numbers) == 0:  # Base case: empty list\n",
        "        return 0\n",
        "    else:\n",
        "        # Check if the first element is odd\n",
        "        if numbers[0] % 2 != 0:\n",
        "            return 1 + countOddNumbers(numbers[1:])  # Add 1 for odd and recursively count remaining elements\n",
        "        else:\n",
        "            return countOddNumbers(numbers[1:])  # No addition for even, recursively count remaining elements\n",
        "\n",
        "# Testing the function with different lists\n",
        "test_list_1 = [11, 22, 33, 44, 55]\n",
        "test_list_2 = [20, 40, 60, 80, 100]\n",
        "test_list_3 = [111, 333, 555, 777, 999]\n",
        "empty_list = []\n",
        "\n",
        "print(countOddNumbers(test_list_1))  # Output: 3 (3 odd numbers: 11, 33, 55)\n",
        "print(countOddNumbers(test_list_2))  # Output: 0 (no odd numbers)\n",
        "print(countOddNumbers(test_list_3))  # Output: 5 (all numbers are odd)\n",
        "print(countOddNumbers(empty_list))  # Output: 0 (empty list)\n",
        "\n"
      ],
      "metadata": {
        "id": "ryJ_GUvrCd4C",
        "colab": {
          "base_uri": "https://localhost:8080/"
        },
        "outputId": "a1c36cb6-6226-4935-9414-8f319adf1c36"
      },
      "execution_count": 11,
      "outputs": [
        {
          "output_type": "stream",
          "name": "stdout",
          "text": [
            "3\n",
            "0\n",
            "5\n",
            "0\n"
          ]
        }
      ]
    },
    {
      "cell_type": "markdown",
      "source": [
        "Questionn 2"
      ],
      "metadata": {
        "id": "GV07K-L3FqKG"
      }
    },
    {
      "cell_type": "code",
      "source": [
        "def sumOfOddNumbers(numbers):\n",
        "    if len(numbers) == 0:  # Base case: empty list\n",
        "        return 0\n",
        "    else:\n",
        "        # Check if the first element is odd\n",
        "        if numbers[0] % 2 != 0:\n",
        "            return numbers[0] + sumOfOddNumbers(numbers[1:])  # Add the current odd number and recursively sum the remaining elements\n",
        "        else:\n",
        "            return sumOfOddNumbers(numbers[1:])  # No addition for even, recursively sum the remaining elements\n",
        "\n",
        "# Testing the function with different lists\n",
        "test_list_1 = [11, 22, 33, 44, 55]\n",
        "test_list_2 = [20, 40, 60, 80, 100]\n",
        "test_list_3 = [111, 333, 555, 777, 999]\n",
        "empty_list = []\n",
        "\n",
        "print(sumOfOddNumbers(test_list_1))  # Output: 99 (sum of odd numbers: 11 + 33 + 55)\n",
        "print(sumOfOddNumbers(test_list_2))  # Output: 0 (no odd numbers, return 0)\n",
        "print(sumOfOddNumbers(test_list_3))  # Output: 2775 (sum of all odd numbers: 111 + 333 + 555 + 777 + 999)\n",
        "print(sumOfOddNumbers(empty_list))  # Output: 0 (empty list, return 0)\n"
      ],
      "metadata": {
        "id": "eRAB6PZXFsLC",
        "colab": {
          "base_uri": "https://localhost:8080/"
        },
        "outputId": "600fa49f-a198-4247-df3b-5eaeebea3cbf"
      },
      "execution_count": 12,
      "outputs": [
        {
          "output_type": "stream",
          "name": "stdout",
          "text": [
            "99\n",
            "0\n",
            "2775\n",
            "0\n"
          ]
        }
      ]
    },
    {
      "cell_type": "markdown",
      "source": [
        "QUESTION 3"
      ],
      "metadata": {
        "id": "eWh_DMKYIhyY"
      }
    },
    {
      "cell_type": "code",
      "source": [
        "def filterOddNumbers(numbers):\n",
        "    if len(numbers) == 0:  # Base case: empty list\n",
        "        return []   # Return an empty list\n",
        "    else:\n",
        "        if numbers[0] % 2 != 0:  # If the first element is odd\n",
        "            return [numbers[0]] + filterOddNumbers(numbers[1:])  # Add it to the result and recursively process the remaining elements\n",
        "        else:\n",
        "            return filterOddNumbers(numbers[1:])  # If the first element is even, recursively process the remaining elements\n",
        "\n",
        "# Testing the function with different lists\n",
        "test_list_1 = [11, 22, 33, 44, 55]\n",
        "test_list_2 = [20, 40, 60, 80, 100]\n",
        "test_list_3 = [111, 333, 555, 777, 999]\n",
        "empty_list = []\n",
        "\n",
        "print(filterOddNumbers(test_list_1))  # Output: [11, 33, 55]\n",
        "print(filterOddNumbers(test_list_2))  # Output: []\n",
        "print(filterOddNumbers(test_list_3))  # Output: [111, 333, 555, 777, 999]\n",
        "print(filterOddNumbers(empty_list))  # Output: []\n"
      ],
      "metadata": {
        "id": "_Rmu5adyIkRA",
        "colab": {
          "base_uri": "https://localhost:8080/"
        },
        "outputId": "38e3b35e-9bab-4e04-dcb2-3e63a2cec5af"
      },
      "execution_count": 14,
      "outputs": [
        {
          "output_type": "stream",
          "name": "stdout",
          "text": [
            "[11, 33, 55]\n",
            "[]\n",
            "[111, 333, 555, 777, 999]\n",
            "[]\n"
          ]
        }
      ]
    },
    {
      "cell_type": "markdown",
      "source": [
        "Question 4"
      ],
      "metadata": {
        "id": "AGfMW5ZPI541"
      }
    },
    {
      "cell_type": "code",
      "source": [
        "def findMaxOddNumber(numbers):\n",
        "    if len(numbers) == 0:  # Base case: empty list\n",
        "        return None  # Return None if list is empty\n",
        "    else:\n",
        "        # Recursive cases:\n",
        "        if numbers[0] % 2 != 0:  # If the first element is odd\n",
        "            # Recursively find the maximum odd integer in the rest of the list\n",
        "            rest_max = findMaxOddNumber(numbers[1:])\n",
        "            if rest_max is not None:  # If there are odd integers in the rest of the list\n",
        "                return max(numbers[0], rest_max)  # Return the maximum of the current odd integer and the maximum from the rest\n",
        "            else:\n",
        "                return numbers[0]  # If there are no odd integers in the rest, return the current odd integer\n",
        "        else:\n",
        "            # If the first element is even, recursively find the maximum odd integer in the rest of the list\n",
        "            return findMaxOddNumber(numbers[1:])\n",
        "\n",
        "# Testing the function with different lists\n",
        "numbers_1 = [11, 22, 33, 44, 55]\n",
        "numbers_2 = [20, 40, 60, 80, 100]\n",
        "numbers_3 = [1, 3, 7, 9, 11]\n",
        "numbers_4 = []\n",
        "\n",
        "print(findMaxOddNumber(numbers_1))  # Output: 55\n",
        "print(findMaxOddNumber(numbers_2))  # Output: None\n",
        "print(findMaxOddNumber(numbers_3))  # Output: 11\n",
        "print(findMaxOddNumber(numbers_4))  # Output: None\n",
        "\n",
        "\n",
        "# Best Case:\n",
        "# Time Complexity: O(n)\n",
        "# Space Complexity: O(n)\n",
        "# The best case occurs when the first odd integer in the list is the largest odd integer. In this case, the function needs to traverse through all elements of the list once to determine the maximum odd integer. The time and space complexity are both O(n) because the function checks each element once and the recursion depth is equal to the number of elements in the list.\n",
        "\n",
        "# Worst Case:\n",
        "# Time Complexity: O(n)\n",
        "# Space Complexity: O(n)\n",
        "# The worst case occurs when the largest odd integer is the last odd integer in the list or when there are no odd integers in the list. In this case, the function needs to traverse through all elements of the list and then return None. The time and space complexity are both O(n) because the function checks each element once and the recursion depth is equal to the number of elements in the list.\n"
      ],
      "metadata": {
        "id": "cq_6DzvaI9ow",
        "colab": {
          "base_uri": "https://localhost:8080/"
        },
        "outputId": "58d1fc35-4617-46fa-d06f-e32a51fff8fb"
      },
      "execution_count": 15,
      "outputs": [
        {
          "output_type": "stream",
          "name": "stdout",
          "text": [
            "55\n",
            "None\n",
            "11\n",
            "None\n"
          ]
        }
      ]
    },
    {
      "cell_type": "markdown",
      "source": [
        "PART B\n",
        "Question 6"
      ],
      "metadata": {
        "id": "yfWk_CBZJn7X"
      }
    },
    {
      "cell_type": "code",
      "source": [
        "def containsRepeatedDigits(number):\n",
        "    # Convert negative number to positive for easier processing\n",
        "    number = abs(number)\n",
        "\n",
        "    # Base case: If the number is less than 10, it cannot have repeated digits\n",
        "    if number < 10:\n",
        "        return False\n",
        "    else:\n",
        "        # Recursive case: Check if the last two digits are the same\n",
        "        last_digit = number % 10\n",
        "        second_last_digit = (number // 10) % 10\n",
        "        if last_digit == second_last_digit:\n",
        "            return True\n",
        "        else:\n",
        "            # Recursively check the remaining digits\n",
        "            return containsRepeatedDigits(number // 10)\n",
        "\n",
        "# Testing the function with different numbers\n",
        "number_1 = 1234567890\n",
        "number_2 = 112233445566778899\n",
        "number_3 = -121212\n",
        "number_4 = 987654321\n",
        "number_5 = 0\n",
        "\n",
        "print(containsRepeatedDigits(number_1))  # Output: False\n",
        "print(containsRepeatedDigits(number_2))  # Output: True\n",
        "print(containsRepeatedDigits(number_3))  # Output: True\n",
        "print(containsRepeatedDigits(number_4))  # Output: False\n",
        "print(containsRepeatedDigits(number_5))  # Output: False\n",
        "\n",
        "# Best Case:\n",
        "# Time Complexity: O(1)\n",
        "# Space Complexity: O(1)\n",
        "# Description: The best case occurs when the number is less than 10. In this case, the function returns False without performing any recursive calls or operations. The time and space complexity are both constant because the function has a fixed number of operations to check if the number is less than 10.\n",
        "\n",
        "# Worst Case:\n",
        "# Time Complexity: O(d)\n",
        "# Space Complexity: O(d)\n",
        "# Description: The worst case occurs when the number has d digits, and the last two digits are different. In this case, the function needs to perform d - 1 recursive calls to check each pair of consecutive digits until it finds two consecutive digits that are the same or reaches the end of the number. The time and space complexity are both linear with respect to the number of digits in the input number.\n"
      ],
      "metadata": {
        "id": "D7rJEJLFJvQx",
        "colab": {
          "base_uri": "https://localhost:8080/"
        },
        "outputId": "5e823a79-2e1f-41f0-e8aa-d7a68af459d4"
      },
      "execution_count": 16,
      "outputs": [
        {
          "output_type": "stream",
          "name": "stdout",
          "text": [
            "False\n",
            "True\n",
            "False\n",
            "False\n",
            "False\n"
          ]
        }
      ]
    },
    {
      "cell_type": "markdown",
      "source": [
        "Question 7"
      ],
      "metadata": {
        "id": "1bnIa4SANQcz"
      }
    },
    {
      "cell_type": "code",
      "source": [
        "def alternateSum(numbers, is_add=True):\n",
        "    if len(numbers) == 0:  # Base case: empty list\n",
        "        return 0\n",
        "    else:\n",
        "        # Recursive case:\n",
        "        if is_add:  # Add the first element if is_add is True\n",
        "            return numbers[0] + alternateSum(numbers[1:], False)\n",
        "        else:  # Subtract the first element if is_add is False\n",
        "            return -numbers[0] + alternateSum(numbers[1:], True)\n",
        "\n",
        "# Testing the function with different lists\n",
        "test_list_1 = [1, 3, 5, 7, 9]\n",
        "test_list_2 = [2, 4, 6, 8, 10]\n",
        "test_list_3 = [11, 22, 33, 44, 55]\n",
        "empty_list = []\n",
        "\n",
        "print(alternateSum(test_list_1))  # Output: 25 (1 - 3 + 5 - 7 + 9)\n",
        "print(alternateSum(empty_list))  # Output: 0 (empty list)\n",
        "print(alternateSum(test_list_2))  # Output: -30 (2 - 4 + 6 - 8 + 10)\n",
        "print(alternateSum(test_list_3))  # Output: 15 (11 - 22 + 33 - 44 + 55)\n",
        "\n",
        "# Best Case:\n",
        "# Time Complexity: O(1)\n",
        "# Space Complexity: O(1)\n",
        "# Description: The best case occurs when the list is empty. In this case, the function immediately returns 0 without performing any recursive calls or operations. Both time and space complexities are constant.\n",
        "\n",
        "# Worst Case:\n",
        "# Time Complexity: O(n)\n",
        "# Space Complexity: O(n)\n",
        "# Description: The worst case occurs when the list has n elements. In this case, the function recursively processes each element of the list once. The time complexity is linear with respect to the number of elements in the list, and the space complexity is also linear due to the recursion stack.\n"
      ],
      "metadata": {
        "id": "dEaYCz_SOiGE",
        "colab": {
          "base_uri": "https://localhost:8080/"
        },
        "outputId": "126cd625-c1c7-4789-bb83-b07bfd10aaef"
      },
      "execution_count": 17,
      "outputs": [
        {
          "output_type": "stream",
          "name": "stdout",
          "text": [
            "5\n",
            "0\n",
            "6\n",
            "33\n"
          ]
        }
      ]
    }
  ]
}