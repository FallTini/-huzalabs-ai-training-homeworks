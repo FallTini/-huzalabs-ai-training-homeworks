{
  "nbformat": 4,
  "nbformat_minor": 0,
  "metadata": {
    "colab": {
      "provenance": []
    },
    "kernelspec": {
      "name": "python3",
      "display_name": "Python 3"
    },
    "language_info": {
      "name": "python"
    }
  },
  "cells": [
    {
      "cell_type": "markdown",
      "source": [
        "#Part A"
      ],
      "metadata": {
        "id": "Q4G7JVDyIHLn"
      }
    },
    {
      "cell_type": "code",
      "source": [],
      "metadata": {
        "id": "6biN2kYstq_w"
      },
      "execution_count": null,
      "outputs": []
    },
    {
      "cell_type": "code",
      "source": [
        "def digitCount(n):\n",
        "    count = 0\n",
        "    if n == 0:\n",
        "        return 1\n",
        "    elif n < 0:\n",
        "        n *= -1\n",
        "    while n > 0:\n",
        "        n //= 10\n",
        "        count += 1\n",
        "    return count"
      ],
      "metadata": {
        "id": "lZ7fnRqBIXNE"
      },
      "execution_count": 4,
      "outputs": []
    },
    {
      "cell_type": "code",
      "source": [
        "def gcd(x, y):\n",
        "    while y != 0:\n",
        "        x, y = y, x % y\n",
        "    return x\n",
        "\n"
      ],
      "metadata": {
        "id": "K14StCeVq4DW"
      },
      "execution_count": 6,
      "outputs": []
    },
    {
      "cell_type": "code",
      "source": [
        "def hasConsecutiveDigits(n):\n",
        "    n = abs(n)\n",
        "    prev_digit = n % 10\n",
        "    n //= 10\n",
        "    while n > 0:\n",
        "        current_digit = n % 10\n",
        "        if current_digit == prev_digit:\n",
        "            return True\n",
        "        prev_digit = current_digit\n",
        "        n //= 10\n",
        "    return False\n",
        "\n",
        "def isPrime(num):\n",
        "    if num <= 1:\n",
        "        return False\n",
        "    for i in range(2, int(num**0.5) + 1):\n",
        "        if num % i == 0:\n",
        "            return False\n",
        "    return True\n",
        "\n",
        "def nthAdditivePrime(n):\n",
        "    def isAdditivePrime(num):\n",
        "        if isPrime(num):\n",
        "            digit_sum = sum(int(digit) for digit in str(num))\n",
        "            return isPrime(digit_sum)\n",
        "        return False\n",
        "\n",
        "    count = 0\n",
        "    num = 2\n",
        "    while True:\n",
        "        if isAdditivePrime(num):\n",
        "            count += 1\n",
        "            if count == n:\n",
        "                return num\n",
        "        num += 1\n",
        "\n",
        "def mostFrequentDigit(n):\n",
        "    n = abs(n)\n",
        "    digit_count = [0] * 10\n",
        "    while n > 0:\n",
        "        digit = n % 10\n",
        "        digit_count[digit] += 1\n",
        "        n //= 10\n",
        "    max_count = max(digit_count)\n",
        "    return digit_count.index(max_count)\n",
        "\n",
        "def isRotation(x, y):\n",
        "    x_str = str(x)\n",
        "    y_str = str(y)\n",
        "    if len(x_str) != len(y_str):\n",
        "        return False\n",
        "    return x_str in (y_str * 2)\n",
        "\n",
        "def integral(f, a, b, N):\n",
        "    width = (b - a) / N\n",
        "    total_area = 0\n",
        "    for i in range(N):\n",
        "        x0 = a + i * width\n",
        "        x1 = x0 + width\n",
        "        total_area += (f(x0) + f(x1)) * width / 2\n",
        "    return total_area"
      ],
      "metadata": {
        "id": "p2rdy9yTsA3l"
      },
      "execution_count": 8,
      "outputs": []
    },
    {
      "cell_type": "code",
      "source": [
        "# Test cases\n",
        "print(digitCount(12323))  # Output: 5\n",
        "print(digitCount(0))      # Output: 1\n",
        "print(digitCount(-111))   # Output: 3\n",
        "\n",
        "print(gcd(270, 250))      # Output: 10\n",
        "\n",
        "print(hasConsecutiveDigits(123456))  # Output: False\n",
        "print(hasConsecutiveDigits(112233))  # Output: True\n",
        "\n",
        "print(nthAdditivePrime(3))  # Output: 23\n",
        "\n",
        "print(mostFrequentDigit(122345))  # Output: 2\n",
        "\n",
        "print(isRotation(3412, 1234))  # Output: True\n",
        "print(isRotation(123, 321))    # Output: False"
      ],
      "metadata": {
        "colab": {
          "base_uri": "https://localhost:8080/"
        },
        "id": "I_C9PTb9rX39",
        "outputId": "35b6126f-2413-4991-86a8-ab7a8bfd1e79"
      },
      "execution_count": 9,
      "outputs": [
        {
          "output_type": "stream",
          "name": "stdout",
          "text": [
            "5\n",
            "1\n",
            "3\n",
            "10\n",
            "False\n",
            "True\n",
            "5\n",
            "2\n",
            "True\n",
            "False\n"
          ]
        }
      ]
    },
    {
      "cell_type": "code",
      "source": [
        "def f1(x):\n",
        "    return x\n",
        "\n",
        "def f2(x):\n",
        "    return 2 * x + 3\n",
        "\n",
        "def f3(x):\n",
        "    return 2 * x ** 2\n",
        "\n",
        "print(integral(f1, 0, 1, 100))  # Output: 0.5\n",
        "print(integral(f2, 1, 2, 100))  # Output: 6.5\n",
        "print(integral(f3, 0, 1, 100))  # Output: 0.6666666666666667"
      ],
      "metadata": {
        "colab": {
          "base_uri": "https://localhost:8080/"
        },
        "id": "CpfPlab0IRtn",
        "outputId": "e76fab0e-db0b-4f2d-f020-380ce012351e"
      },
      "execution_count": 10,
      "outputs": [
        {
          "output_type": "stream",
          "name": "stdout",
          "text": [
            "0.5\n",
            "5.999999999999999\n",
            "0.6667\n"
          ]
        }
      ]
    },
    {
      "cell_type": "markdown",
      "source": [
        "#PART B\n"
      ],
      "metadata": {
        "id": "OoMVX47T_n_U"
      }
    },
    {
      "cell_type": "code",
      "source": [
        "def findZeroWithBisection(f, x0, x1, epsilon):\n",
        "    # Ensure that f(x0) and f(x1) have opposite signs\n",
        "    if f(x0) * f(x1) > 0:\n",
        "        raise ValueError(\"Initial values do not bracket the root\")\n",
        "\n",
        "    while abs(x1 - x0) > epsilon:\n",
        "        x_mid = (x0 + x1) / 2\n",
        "        if f(x_mid) == 0:\n",
        "            return x_mid\n",
        "        elif f(x0) * f(x_mid) < 0:\n",
        "            x1 = x_mid\n",
        "        else:\n",
        "            x0 = x_mid\n",
        "    return (x0 + x1) / 2\n",
        "\n",
        "def carrylessAdd(x, y):\n",
        "    result = 0\n",
        "    multiplier = 1\n",
        "    while x > 0 or y > 0:\n",
        "        digit_sum = (x % 10 + y % 10) % 10\n",
        "        result += digit_sum * multiplier\n",
        "        multiplier *= 10\n",
        "        x //= 10\n",
        "        y //= 10\n",
        "    return result\n",
        "\n",
        "def isPrime(num):\n",
        "    if num <= 1:\n",
        "        return False\n",
        "    for i in range(2, int(num**0.5) + 1):\n",
        "        if num % i == 0:\n",
        "            return False\n",
        "    return True\n",
        "\n",
        "def prime_factors(n):\n",
        "    factors = []\n",
        "    i = 2\n",
        "    while i * i <= n:\n",
        "        if n % i:\n",
        "            i += 1\n",
        "        else:\n",
        "            n //= i\n",
        "            factors.append(i)\n",
        "    if n > 1:\n",
        "        factors.append(n)\n",
        "    return factors\n",
        "\n",
        "def nthSmithNumber(n):\n",
        "    def digit_sum(number):\n",
        "        return sum(int(digit) for digit in str(number))\n",
        "\n",
        "    smith_numbers = []\n",
        "    number = 4\n",
        "    while len(smith_numbers) < n:\n",
        "        if not isPrime(number):\n",
        "            prime_factors_sum = sum(digit_sum(factor) for factor in prime_factors(number))\n",
        "            if prime_factors_sum == digit_sum(number):\n",
        "                smith_numbers.append(number)\n",
        "        number += 1\n",
        "    return smith_numbers[-1]\n",
        "\n",
        "# Example usage:\n",
        "findZeroWithBisection(lambda x: x**2 - 4, 0, 2, 0.0001)\n",
        "carrylessAdd(785, 376)\n",
        "nthSmithNumber(5)\n"
      ],
      "metadata": {
        "colab": {
          "base_uri": "https://localhost:8080/"
        },
        "id": "DHt28FEMIQHW",
        "outputId": "2f3108a8-a9cf-48b5-e67f-744d4d28be08"
      },
      "execution_count": 13,
      "outputs": [
        {
          "output_type": "execute_result",
          "data": {
            "text/plain": [
              "85"
            ]
          },
          "metadata": {},
          "execution_count": 13
        }
      ]
    },
    {
      "cell_type": "markdown",
      "source": [
        "The findZeroWithBisection function implements the bisection method to find the root of a function within a given interval.\n",
        "\n",
        "The carrylessAdd function calculates the carryless addition of two non-negative integers.\n",
        "\n",
        "The nthSmithNumber function finds the nth Smith number, which is a composite number whose digit sum equals the sum of the digit sums of its prime factors.\n"
      ],
      "metadata": {
        "id": "gpPU9H4F_ODH"
      }
    }
  ]
}